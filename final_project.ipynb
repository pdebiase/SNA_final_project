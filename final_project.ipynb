{
 "cells": [
  {
   "cell_type": "markdown",
   "metadata": {},
   "source": [
    "# Social Network Analysis - Final Project\n",
    "### Influence spread and virality II"
   ]
  },
  {
   "cell_type": "markdown",
   "metadata": {},
   "source": [
    "# TODO\n",
    "- save outbreak simulation data to file\n",
    "- implement CELF++\n",
    "- implement SA\n",
    "- implement multi-processing for outbreak simulation\n",
    "- experiment pipeline, save to .csv"
   ]
  },
  {
   "cell_type": "markdown",
   "metadata": {},
   "source": [
    "## Preliminaries"
   ]
  },
  {
   "cell_type": "code",
   "execution_count": 1,
   "metadata": {},
   "outputs": [],
   "source": [
    "import numpy as np\n",
    "import pandas as pd\n",
    "import time\n",
    "import networkx as nx\n",
    "from functools import reduce\n",
    "import operator\n",
    "from random import choice, randint\n",
    "import functools\n",
    "import os\n",
    "import heapq \n",
    "import copy"
   ]
  },
  {
   "cell_type": "markdown",
   "metadata": {},
   "source": [
    "## Load data"
   ]
  },
  {
   "cell_type": "code",
   "execution_count": 2,
   "metadata": {},
   "outputs": [],
   "source": [
    "def edgelist_csv_to_graph(filename=\"./data/2tvshow_edges.csv\"):\n",
    "    '''\n",
    "    Converts a .csv file in edgelist format to a networkX graph. \n",
    "    :param filename: relative path to the csv file\n",
    "    :return G: Returns a networkx undirected graph object\n",
    "    '''\n",
    "\n",
    "    df = pd.read_csv(filename, sep=\";\")\n",
    "    G = nx.from_pandas_edgelist(df, source=\"Source\", target=\"Target\")\n",
    "    del df\n",
    "    return G"
   ]
  },
  {
   "cell_type": "code",
   "execution_count": 3,
   "metadata": {},
   "outputs": [],
   "source": [
    "G = edgelist_csv_to_graph()"
   ]
  },
  {
   "cell_type": "code",
   "execution_count": 4,
   "metadata": {},
   "outputs": [
    {
     "data": {
      "text/plain": [
       "3803"
      ]
     },
     "execution_count": 4,
     "metadata": {},
     "output_type": "execute_result"
    }
   ],
   "source": [
    "len(G.nodes)"
   ]
  },
  {
   "cell_type": "code",
   "execution_count": 5,
   "metadata": {},
   "outputs": [
    {
     "data": {
      "text/plain": [
       "17241"
      ]
     },
     "execution_count": 5,
     "metadata": {},
     "output_type": "execute_result"
    }
   ],
   "source": [
    "len(G.edges)"
   ]
  },
  {
   "cell_type": "markdown",
   "metadata": {},
   "source": [
    "## Outbreak simulation"
   ]
  },
  {
   "cell_type": "code",
   "execution_count": 6,
   "metadata": {},
   "outputs": [],
   "source": [
    "def simulate_outbreak(G, init_nodes=[], p=0.05, n_runs=10):\n",
    "    '''\n",
    "    Simulates an outbreak, either from a random node or a prespecified set of nodes.\n",
    "    :param G: networkx graph object to use as network\n",
    "    :param initial_infected nodes: list of nodes to start the outbreak from, if empty choose random node\n",
    "    :param n_runs: how many outbreaks to simulate\n",
    "    :return all_runs_list: returns a list of lists, where each \n",
    "                            inner list is a list of infected nodes resulting from that run\n",
    "    '''\n",
    "    \n",
    "    # List with all runs output\n",
    "    all_runs_list = []\n",
    "    # Run the algorithm 'n_runs' times\n",
    "    for run in range(n_runs):\n",
    "        np.random.seed(run)\n",
    "        initial_infected_nodes = []\n",
    "        # Using a fixed p or sampling from a 20-60 distribution\n",
    "        if p==False:\n",
    "            prob = np.random.uniform(20,60,1)[0]/100\n",
    "        else:\n",
    "            prob = p\n",
    "\n",
    "        if init_nodes==[]:\n",
    "            initial_infected_nodes = [choice(list(G.nodes()))]\n",
    "            \n",
    "        else:\n",
    "            initial_infected_nodes = init_nodes\n",
    "\n",
    "        # Random seed equals to run so we always can recover the same output\n",
    "        # np.random.seed(run)\n",
    "        # Nodes that are infecting other nodes in this time step\n",
    "        transmissible_nodes = initial_infected_nodes\n",
    "        # Nodes that become infected in this time step - at start, by default, none\n",
    "        just_infected = []\n",
    "        # History of all nodes that become infected - at the start just the the initial nodes\n",
    "        all_infected = [initial_infected_nodes]\n",
    "        # The algorithm runs when there is at least one trasmissible node\n",
    "        while transmissible_nodes:\n",
    "            # For each node recently infected we are going to check its neighbors and infect new nodes with probability p\n",
    "            for n in transmissible_nodes:\n",
    "                current_neighbors = list(G.neighbors(n))\n",
    "                infection = np.random.uniform(0,1,len(current_neighbors)) < prob\n",
    "                just_infected += list(np.extract(infection, current_neighbors))\n",
    "            # Now the recent infected become the trasmissible nodes (only if they were not infected before)\n",
    "            transmissible_nodes = list(set(just_infected) - set(reduce(operator.concat, all_infected)))\n",
    "            # And they are added to the list with the history of all nodes infected\n",
    "            all_infected.extend([transmissible_nodes])\n",
    "        # Removing the last blank element (the last element is always a blank list)\n",
    "        all_infected = all_infected[:-1]\n",
    "        # Appending t the list with the output from all runs\n",
    "        all_runs_list.append(all_infected)\n",
    "\n",
    "    return all_runs_list\n"
   ]
  },
  {
   "cell_type": "code",
   "execution_count": 7,
   "metadata": {},
   "outputs": [],
   "source": [
    "def simulate_outbreak_inverted_index(G, init_nodes=[], p=0.05, n_runs=10):\n",
    "    '''\n",
    "    Simulates an outbreak, either from a random node or a prespecified set of nodes.\n",
    "    :param G: networkx graph object to use as network\n",
    "    :param initial_infected nodes: list of nodes to start the outbreak from, if empty choose random node\n",
    "    :param n_runs: how many outbreaks to simulate\n",
    "    :return all_runs_list: returns a list of lists, where each \n",
    "                            inner list is a list of infected nodes resulting from that run\n",
    "    '''\n",
    "    \n",
    "    # List with all runs output\n",
    "    all_runs_dicts = []\n",
    "    # Run the algorithm 'n_runs' times\n",
    "    for run in range(n_runs):\n",
    "        outbreak_dict = dict()\n",
    "        initial_infected_nodes = []\n",
    "        # Using a fixed p or sampling from a 20-60 distribution\n",
    "        if p==False:\n",
    "            prob = np.random.uniform(20,60,1)[0]/100\n",
    "        else:\n",
    "            prob = p\n",
    "\n",
    "        if init_nodes==[]:\n",
    "            initial_infected_nodes = [choice(list(G.nodes()))]\n",
    "            \n",
    "        else:\n",
    "            initial_infected_nodes = init_nodes\n",
    "\n",
    "        # Random seed equals to run so we always can recover the same output\n",
    "        # np.random.seed(run)\n",
    "        # Nodes that are infecting other nodes in this time step\n",
    "        transmissible_nodes = initial_infected_nodes\n",
    "        # Nodes that become infected in this time step - at start, by default, none\n",
    "        just_infected = []\n",
    "        # History of all nodes that become infected - at the start just the the initial nodes\n",
    "        [outbreak_dict.update({node:0}) for node in initial_infected_nodes]\n",
    "        # The algorithm runs when there is at least one trasmissible node\n",
    "        i = 1\n",
    "        all_infected = [initial_infected_nodes]\n",
    "        while transmissible_nodes:\n",
    "            # For each node recently infected we are going to check its neighbors and infect new nodes with probability p\n",
    "            for n in transmissible_nodes:\n",
    "                current_neighbors = list(G.neighbors(n))\n",
    "                infection = np.random.uniform(0,1,len(current_neighbors)) < prob\n",
    "                just_infected += list(np.extract(infection, current_neighbors))\n",
    "            # Now the recent infected become the trasmissible nodes (only if they were not infected before)\n",
    "            transmissible_nodes = list(set(just_infected) - set(reduce(operator.concat, all_infected)))\n",
    "            # And they are added to the list with the history of all nodes infected\n",
    "#             all_infected.extend([transmissible_nodes])\n",
    "            [outbreak_dict.update({node:i}) for node in transmissible_nodes]\n",
    "            all_infected.extend([transmissible_nodes])\n",
    "            i += 1\n",
    "        # Removing the last blank element (the last element is always a blank list)\n",
    "        all_infected = all_infected[:-1]\n",
    "        # Appending t the list with the output from all runs\n",
    "        output = (outbreak_dict, all_infected)\n",
    "        all_runs_dicts.append(output)\n",
    "\n",
    "    return all_runs_dicts"
   ]
  },
  {
   "cell_type": "markdown",
   "metadata": {},
   "source": [
    "## Evaluation functions"
   ]
  },
  {
   "cell_type": "code",
   "execution_count": 36,
   "metadata": {},
   "outputs": [],
   "source": [
    "#Fraction of information cascades and contamination events detected by the selected nodes\n",
    "def detection_likelihood(outbreak_simulations, placement, inverse=True):\n",
    "    '''\n",
    "    For a given run or multiple runs, calculate the placement score with detection likelihood as objective\n",
    "    :param outbreak_simulations: outbreak simulation data generated by simulate_outbreak\n",
    "    :param placement: solution set of nodes to calculate score for\n",
    "    :param inverse: if inverse is set to True, return 1 - detection likelihood score, such that a lower score is a better score\n",
    "    :return: Returns the average detection likelihood score (between 0 and 1) over all runs\n",
    "    '''\n",
    "    detection_count = 0\n",
    "    # For each run we need to compute the detection likelihood\n",
    "    \n",
    "    for run in outbreak_simulations:\n",
    "        # If any node in the placement got infeceted then we detected the outbreak\n",
    "#         if list(set(placement) & set(reduce(operator.concat, run))):\n",
    "#             detection_count += 1\n",
    "        for node in placement:\n",
    "            if node in run[0]:\n",
    "                detection_count +=1\n",
    "                break\n",
    "        \n",
    "    # We need the detection likelihood thus the number of detection divded by the total number of simulations\n",
    "    dl = (detection_count/len(outbreak_simulations))\n",
    "    if inverse:\n",
    "        return 1-dl\n",
    "    \n",
    "    else:\n",
    "          return dl\n",
    "\n",
    "def detection_time(outbreak_simulations, placement):\n",
    "    '''\n",
    "    For a given run or multiple runs, calculate the placement score with detection time as objective\n",
    "    :param outbreak_simulations: outbreak simulation data generated by simulate_outbreak\n",
    "    :param placement: solution set of nodes to calculate score for\n",
    "    :return: Returns the average detection time score over all runs\n",
    "    '''\n",
    "          \n",
    "    # Output is a list with the time step in which the outbreak was detected for each run\n",
    "    output = []\n",
    "    # Creating a set for the placement\n",
    "    # For each run we need to compute the detection time\n",
    "    for run in outbreak_simulations:\n",
    "        detected = False\n",
    "        dt = {}\n",
    "        for node in placement:\n",
    "            if node in run[0]:\n",
    "                detected = True \n",
    "                dt.update({node:run[0][node]})        \n",
    "        if detected:\n",
    "            \n",
    "            output.append(dt[min(dt.keys(), key=(lambda k: dt[k]))])\n",
    "        else:\n",
    "            max_penalty = 0\n",
    "            for iteration in run[1]:\n",
    "                max_penalty+=len(iteration)\n",
    "            output.append(max_penalty)\n",
    "    return np.mean(output)\n",
    "\n",
    "def population_affected(outbreak_simulations, placement):\n",
    "    '''\n",
    "    For a given run or multiple runs, calculate the placement score with population affected as objective\n",
    "    :param outbreak_simulations: outbreak simulation data generated by simulate_outbreak\n",
    "    :param placement: solution set of nodes to calculate score for\n",
    "    :return: Returns the average population affected score over all runs\n",
    "    '''\n",
    "          \n",
    "    # Output is a list with the population affected in each outbreak run\n",
    "    output = []\n",
    "    # Creating a set for the placement\n",
    "#     set_placement = set(placement)\n",
    "    # For each run we need to compute the population affected\n",
    "    for run in outbreak_simulations:\n",
    "        pa = 0\n",
    "        # If any node in the placement got infeceted then we detected the outbreak and we need to check the population affected\n",
    "        \n",
    "        detected = False\n",
    "        \n",
    "        dt = -1\n",
    "        for node in placement:\n",
    "            if node in run[0]:\n",
    "                dt = run[0][node] \n",
    "                break\n",
    "        pa = 0\n",
    "        if detected:\n",
    "            for i in range(0, dt):\n",
    "                pa += len(run[1][i])\n",
    "        else:\n",
    "            for i in range(0, len(run[1])):\n",
    "                pa += len(run[1][i])\n",
    "        output.append(pa)\n",
    "#         intersection = list(set_placement & set(reduce(operator.concat, run)))\n",
    "#         if intersection:\n",
    "#             # For each step and nodes infected in this step we are going to check if the placement detected it\n",
    "#             for nodes in run:\n",
    "#                 # If any element in the intersection is in this set of nodes, then it was detected at this time step\n",
    "#                 # and we can finish by appending the population affected to the output and breaking the run\n",
    "#                 if list(set(intersection) & set(nodes)):\n",
    "#                     output.append(pa)\n",
    "#                     break\n",
    "#                 else:\n",
    "#                 # If not, then we need to sum the non-detected nodes to the pop affected\n",
    "#                     pa += len(nodes)\n",
    "        # If not detected, than the pop affected is the size of the outbreak\n",
    "#         else:\n",
    "#             output.append(len(reduce(operator.concat, run)))\n",
    "    return np.mean(output)"
   ]
  },
  {
   "cell_type": "markdown",
   "metadata": {},
   "source": [
    "## Naive greedy algorithm"
   ]
  },
  {
   "cell_type": "code",
   "execution_count": 9,
   "metadata": {},
   "outputs": [],
   "source": [
    "def naive_greedy(outbreak_simulations, budget, eval_function, G, verbosity=2):\n",
    "    '''\n",
    "    Using a naive greedy strategy: find the best placement, given outbreak simulation data and an objective function, constrained to a budget.\n",
    "    :param outbreak_simulations: outbreak simulation data generated by simulate_outbreak\n",
    "    :param budget: The total cost of selecting nodes cannot exceed the budget\n",
    "    :param eval_function: Which objective function to use to calculate placement score\n",
    "    :param G: networkx graph object to use as network\n",
    "    :return placement: Return best found solution set of nodes\n",
    "    \n",
    "    '''\n",
    "    t_total = time.time()\n",
    "    eval_function = functools.partial(eval_function, outbreak_simulations=outbreak_simulations)\n",
    "    nodes = list(G.nodes())\n",
    "    n_nodes = len(nodes)\n",
    "    placement = []\n",
    "#     total_gain = 0\n",
    "    #Finding best placement\n",
    "    for i in range(budget):\n",
    "        t_iter = time.time()\n",
    "        scores = []\n",
    "        for n in nodes:\n",
    "            placement.append(n)\n",
    "            scores.append(eval_function(placement=placement))\n",
    "            placement.remove(n)\n",
    "        best_node = nodes[np.argmin(scores)]\n",
    "        placement.append(best_node)\n",
    "        nodes.remove(best_node)\n",
    "        \n",
    "        if verbosity >= 2:\n",
    "            print(\"Finished iteration \" + str(i+1) + \" in \" + str(time.time()-t_iter))\n",
    "        \n",
    "    if verbosity >= 1:\n",
    "        print(\"Total time: \" + str(time.time()-t_total))\n",
    "    \n",
    "    return placement, eval_function(placement=placement)"
   ]
  },
  {
   "cell_type": "markdown",
   "metadata": {},
   "source": [
    "## CELF\n",
    "\n",
    "1. Maintain priority queue (u, u.marginal_gain, u.iter)\n",
    "2. If node chosen had its marginal_gain computer in the current iteration, then it must be the best node for the current iteration."
   ]
  },
  {
   "cell_type": "markdown",
   "metadata": {},
   "source": [
    "Handy link to understand min heap implementation: https://www.techbeamers.com/python-heapq/"
   ]
  },
  {
   "cell_type": "code",
   "execution_count": 10,
   "metadata": {},
   "outputs": [],
   "source": [
    "def CELF(outbreak_simulations, budget, eval_function, G, verbosity = 2):\n",
    "    '''\n",
    "    Using the CELF algorithm: find the best placement, given outbreak simulation data and an objective function, constrained to a budget.\n",
    "    :param outbreak_simulations: outbreak simulation data generated by simulate_outbreak\n",
    "    :param budget: The total cost of selecting nodes cannot exceed the budget\n",
    "    :param eval_function: Which objective function to use to calculate placement score\n",
    "    :param G: networkx graph object to use as network\n",
    "    :return placement: Return best found solution set of nodes\n",
    "    '''\n",
    "  \n",
    "    t_total = time.time()\n",
    "    fe_total = 0\n",
    "    eval_function = functools.partial(eval_function, outbreak_simulations=outbreak_simulations)\n",
    "\n",
    "    nodes = list(G.nodes())\n",
    "\n",
    "    # Construct heap for first iteration of format (marginal gain, node)\n",
    "    node_heap = []\n",
    "    placement = []\n",
    "    scores = []\n",
    "    total_penalty = eval_function(placement = [])\n",
    "    fe_total += 1\n",
    "    t_iter = time.time()\n",
    "    for node in nodes:\n",
    "        penalty = eval_function(placement = [node])\n",
    "        marginal_gain = total_penalty - penalty\n",
    "        # heapq implements a min heap, which keeps the smallest element at the top of the heap\n",
    "        # but we need it the other way around, therefore we multiply the marginal_gain by -1\n",
    "        heapq.heappush(node_heap, (-marginal_gain, node))\n",
    "    \n",
    "    fe_total += len(nodes)\n",
    "    \n",
    "    # Remove best node from heap and add to solution set\n",
    "    best_gain, best_node = heapq.heappop(node_heap)\n",
    "    total_penalty = total_penalty + best_gain\n",
    "    placement.append(best_node)\n",
    "    \n",
    "    if verbosity >= 2:\n",
    "        print(\"Finished iteration \" + str(len(placement)) + \" in \" + str(time.time()-t_iter))\n",
    "\n",
    "    \n",
    "    while len(placement) < budget:\n",
    "        t_iter = time.time()\n",
    "        top_node_unchanged = False\n",
    "\n",
    "        while not top_node_unchanged:\n",
    "            _, current_node = heapq.heappop(node_heap)\n",
    "            placement.append(current_node)\n",
    "            current_penalty = eval_function(placement=placement)\n",
    "            fe_total += 1\n",
    "            placement.remove(current_node)\n",
    "            marginal_gain = total_penalty - current_penalty\n",
    "\n",
    "            # check if the previous top node stayed on the top after pushing\n",
    "            # the marginal gain to the heap\n",
    "            heapq.heappush(node_heap, (-marginal_gain, current_node))\n",
    "            _, top_node = node_heap[0]\n",
    "            \n",
    "            if top_node == current_node:\n",
    "                top_node_unchanged = True\n",
    "            \n",
    "        marginal_gain, current_node = heapq.heappop(node_heap)\n",
    "        # marginal gain is stored as negative, so use plus instead of minus\n",
    "        total_penalty = total_penalty + marginal_gain\n",
    "        \n",
    "        placement.append(current_node)\n",
    "        \n",
    "        if verbosity >= 2:\n",
    "            print(\"Finished iteration \" + str(len(placement)) + \" in \" + str(time.time()-t_iter))\n",
    "            print(eval_function(placement = placement))\n",
    "    \n",
    "    if verbosity >= 1:\n",
    "        print(\"Total time: \" + str(time.time()-t_total))\n",
    "        print(\"Total function evaluations: \" + str(fe_total))\n",
    "\n",
    "    return placement, eval_function(placement = placement)"
   ]
  },
  {
   "cell_type": "markdown",
   "metadata": {},
   "source": [
    "## Simulated Annealing"
   ]
  },
  {
   "cell_type": "code",
   "execution_count": 11,
   "metadata": {},
   "outputs": [],
   "source": [
    "def generate_initial_solution(nodes, budget):\n",
    "    '''\n",
    "    Creates a random solution of length budget\n",
    "    '''\n",
    "    placement = []\n",
    "    for i in range(0, budget):\n",
    "        node = nodes[randint(0,len(nodes)-1)]\n",
    "#         nodes.remove(node)\n",
    "        placement.append(node)\n",
    "    return placement\n",
    "\n",
    "def perturb(placement, nodes):\n",
    "    '''\n",
    "    Creates a neighbor solution by \n",
    "    randomly replacing a node from placement by a node from nodes\n",
    "    '''\n",
    "    to_replace = randint(0, len(placement)-1)\n",
    "    replace_with = randint(0,len(nodes)-1)\n",
    "    placement[to_replace] = nodes[replace_with]\n",
    "    \n",
    "    return placement\n",
    "\n",
    "def SA(outbreak_simulations, budget, eval_function, G, t_start=0.1, t_end=0, delta_t=0.0001, n_perturbations = 100, verbosity = 2):\n",
    "#     k = \n",
    "    '''\n",
    "    Simulated annealing algorithm to determine the nodes that minimize the total penalty of the eval_function.\n",
    "    '''\n",
    "    fe_total = 0\n",
    "    nodes = list(G.nodes())\n",
    "    placement = generate_initial_solution(nodes, budget)\n",
    "    placement_score = eval_function(outbreak_simulations, placement)\n",
    "    best_placement = placement\n",
    "    best_score = placement_score\n",
    "    t = t_start\n",
    "    while(t > t_end):\n",
    "        for i in range(0, n_perturbations):\n",
    "            new_placement = perturb(copy.deepcopy(placement), nodes)\n",
    "            new_placement_score = eval_function(outbreak_simulations, new_placement)\n",
    "            delta_f = new_placement_score - placement_score\n",
    "            fe_total += 1\n",
    "            if delta_f <= 0:\n",
    "                placement = new_placement\n",
    "                placement_score = new_placement_score\n",
    "            else:\n",
    "                probability = np.exp(-delta_f / t)\n",
    "#                 if (probability>0):\n",
    "#                     print(probability)\n",
    "                if np.random.uniform(0,1) < np.min([1.0, probability]):\n",
    "                    placement = new_placement\n",
    "                    placement_score = new_placement_score\n",
    "             \n",
    "            if(placement_score < best_score):\n",
    "                best_placement = placement\n",
    "                best_score = placement_score\n",
    "                    \n",
    "        t -= delta_t\n",
    "#         print(eval_function(outbreak_simulations, placement))\n",
    "    print(\"Best score: \" + str(best_score))\n",
    "    print(\"Final score: \" + str(placement_score))\n",
    "    print(\"Total function evaluations: \" + str(fe_total))\n",
    "    return best_placement, best_score\n",
    "        "
   ]
  },
  {
   "cell_type": "code",
   "execution_count": 12,
   "metadata": {},
   "outputs": [],
   "source": [
    "def SA_SASH(outbreak_simulations, budget, eval_function, G, t_start=0.1, t_end=0, delta_t=0.0001, n_perturbations = 100, verbosity = 2):\n",
    "    '''\n",
    "    Simulated annealing algorithm to determine the nodes that minimize the total penalty of the eval_function.\n",
    "    '''\n",
    "    \n",
    "    init_time = time.time()\n",
    "    nodes = list(G.nodes())\n",
    "    scores = np.array([eval_function(outbreak_simulations, [node]) for node in nodes])\n",
    "    placement = generate_initial_solution(nodes, budget)\n",
    "    placement_score = eval_function(outbreak_simulations, placement)\n",
    "    max_penalty = eval_function(outbreak_simulations, [])\n",
    "    scores = scores - max_penalty\n",
    "    best_placement = placement\n",
    "    best_score = placement_score\n",
    "    \n",
    "    penalty_sum = np.sum(scores)\n",
    "    p = [score / penalty_sum for score in scores]\n",
    "    \n",
    "    t = t_start\n",
    "    print(\"Initialisation took \" + str(time.time()-init_time))\n",
    "    while(t > t_end):\n",
    "        for i in range(0, n_perturbations):\n",
    "            new_placement = SASH(G, nodes, scores, copy.deepcopy(placement), p)\n",
    "            new_placement_score = eval_function(outbreak_simulations, new_placement)\n",
    "            delta_f = new_placement_score - placement_score\n",
    "            if delta_f <= 0:\n",
    "                placement = new_placement\n",
    "                placement_score = new_placement_score\n",
    "            else:\n",
    "                probability = np.exp(-delta_f / t)\n",
    "#                 print(\"f: \" + str(delta_f))\n",
    "#                 print(\"p: \"+ str(probability))\n",
    "                if np.random.uniform(0,1) < np.min([1.0, probability]):\n",
    "                    placement = new_placement\n",
    "                    placement_score = new_placement_score\n",
    "                    \n",
    "            if(placement_score < best_score):\n",
    "                best_placement = placement\n",
    "                best_score = placement_score\n",
    "        t -= delta_t\n",
    "#         print(\"Current score: \" + str(placement_score))\n",
    "#         print(\"Current best: \" + str(best_score))\n",
    "    print(\"Best score: \" + str(best_score))\n",
    "    print(\"Final score: \" + str(placement_score)) \n",
    "#         print(t)\n",
    "    return best_placement, best_score\n",
    "  "
   ]
  },
  {
   "cell_type": "code",
   "execution_count": 13,
   "metadata": {},
   "outputs": [],
   "source": [
    "def nodes_within_distance(placement, G, distance):\n",
    "    t_start = time.time()\n",
    "    nodes_within_d = set()\n",
    "    nodes = placement\n",
    "    for d in range(0, distance):\n",
    "        neighbors = set()\n",
    "        for n in nodes:\n",
    "            neighbors.update(list(G.neighbors(n)))\n",
    "        nodes_within_d.update(neighbors)    \n",
    "        nodes = neighbors    \n",
    "    return nodes_within_d   "
   ]
  },
  {
   "cell_type": "code",
   "execution_count": 14,
   "metadata": {},
   "outputs": [],
   "source": [
    "def SASH(G, nodes, scores, placement, p):\n",
    "    t_start = time.time()\n",
    "    neighborhood = nodes_within_distance(placement, G, 2)\n",
    "    n = len(placement)\n",
    "    n_nodes = len(nodes)\n",
    "      \n",
    "    while True:\n",
    "        r = randint(0, n-1)\n",
    "        replacement = nodes[np.random.choice(n_nodes, p=p)]\n",
    "        if(replacement not in neighborhood):\n",
    "            if(placement[r] != replacement):\n",
    "                placement[r] = replacement\n",
    "                return placement\n"
   ]
  },
  {
   "cell_type": "code",
   "execution_count": 95,
   "metadata": {
    "scrolled": true
   },
   "outputs": [
    {
     "name": "stdout",
     "output_type": "stream",
     "text": [
      "Initialisation took 0.1562352180480957\n",
      "Best score: 1.56\n",
      "Final score: 1.57\n",
      "[1986, 2881, 192, 3683, 134]\n",
      "1.56\n",
      "17.074149131774902\n"
     ]
    }
   ],
   "source": [
    "t_start = time.time()\n",
    "SA_placement, SA_score = SA_SASH(outbreak_simulations, budget, detection_time, G)\n",
    "print(SA_placement)\n",
    "print(SA_score)\n",
    "print(time.time()-t_start)"
   ]
  },
  {
   "cell_type": "code",
   "execution_count": 96,
   "metadata": {
    "scrolled": true
   },
   "outputs": [
    {
     "name": "stdout",
     "output_type": "stream",
     "text": [
      "Best score: 1.44\n",
      "Final score: 1.44\n",
      "Total function evaluations: 100000\n",
      "[235, 363, 3164, 2449, 2152]\n",
      "1.44\n",
      "7.62324595451355\n"
     ]
    }
   ],
   "source": [
    "t_start = time.time()\n",
    "SA_placement, SA_score = SA(outbreak_simulations, budget, detection_time, G)\n",
    "print(SA_placement)\n",
    "print(SA_score)\n",
    "print(time.time()-t_start)"
   ]
  },
  {
   "cell_type": "code",
   "execution_count": 16,
   "metadata": {},
   "outputs": [],
   "source": [
    "# Generating outbreaks scenarios and other parameters\n",
    "n_scenarios = 100\n",
    "outbreak_simulations = simulate_outbreak_inverted_index(G=G, n_runs=n_scenarios, p=0.05)\n",
    "budget = 5"
   ]
  },
  {
   "cell_type": "code",
   "execution_count": 22,
   "metadata": {
    "scrolled": true
   },
   "outputs": [
    {
     "name": "stdout",
     "output_type": "stream",
     "text": [
      "CELF\n",
      "Finished iteration 1 in 0.20048069953918457\n",
      "Finished iteration 2 in 0.0\n",
      "1.93\n",
      "Finished iteration 3 in 0.0\n",
      "1.91\n",
      "Finished iteration 4 in 0.0\n",
      "1.89\n",
      "Finished iteration 5 in 0.0\n",
      "1.87\n",
      "Total time: 0.20048069953918457\n",
      "Total function evaluations: 3894\n",
      "[237, 1201, 66, 114, 134]\n",
      "1.87\n"
     ]
    }
   ],
   "source": [
    "# Naive Algorithm\n",
    "# print(\"NAIVE\")\n",
    "# naive_placement, naive_score = naive_greedy(outbreak_simulations, budget=budget, eval_function = detection_time, G=G)\n",
    "# print(naive_placement)\n",
    "# print(naive_score)\n",
    "# CELF\n",
    "print(\"CELF\")\n",
    "i_time = time.time()\n",
    "celf_placement, celf_score = CELF(outbreak_simulations, budget=budget, eval_function = detection_time, G=G)\n",
    "print(celf_placement)\n",
    "print(celf_score)"
   ]
  },
  {
   "cell_type": "code",
   "execution_count": 37,
   "metadata": {},
   "outputs": [
    {
     "data": {
      "text/plain": [
       "10.13"
      ]
     },
     "execution_count": 37,
     "metadata": {},
     "output_type": "execute_result"
    }
   ],
   "source": [
    "detection_time(outbreak_simulations, [])"
   ]
  },
  {
   "cell_type": "code",
   "execution_count": 38,
   "metadata": {},
   "outputs": [
    {
     "data": {
      "text/plain": [
       "10.13"
      ]
     },
     "execution_count": 38,
     "metadata": {},
     "output_type": "execute_result"
    }
   ],
   "source": [
    "population_affected(outbreak_simulations, [])"
   ]
  },
  {
   "cell_type": "code",
   "execution_count": 31,
   "metadata": {
    "scrolled": true
   },
   "outputs": [
    {
     "data": {
      "text/plain": [
       "1.0"
      ]
     },
     "execution_count": 31,
     "metadata": {},
     "output_type": "execute_result"
    }
   ],
   "source": [
    "detection_likelihood(outbreak_simulations, [])"
   ]
  }
 ],
 "metadata": {
  "kernelspec": {
   "display_name": "Python 3",
   "language": "python",
   "name": "python3"
  },
  "language_info": {
   "codemirror_mode": {
    "name": "ipython",
    "version": 3
   },
   "file_extension": ".py",
   "mimetype": "text/x-python",
   "name": "python",
   "nbconvert_exporter": "python",
   "pygments_lexer": "ipython3",
   "version": "3.7.3"
  }
 },
 "nbformat": 4,
 "nbformat_minor": 2
}
